{
 "cells": [
  {
   "cell_type": "code",
   "execution_count": 6,
   "metadata": {},
   "outputs": [],
   "source": [
    "import numpy as np\n",
    "import pandas as pd\n",
    "\n",
    "from datetime import datetime"
   ]
  },
  {
   "cell_type": "code",
   "execution_count": 7,
   "metadata": {},
   "outputs": [
    {
     "name": "stdout",
     "output_type": "stream",
     "text": [
      "<class 'pandas.core.frame.DataFrame'>\n",
      "Int64Index: 79092 entries, 0 to 64940\n",
      "Data columns (total 4 columns):\n",
      " #   Column      Non-Null Count  Dtype \n",
      "---  ------      --------------  ----- \n",
      " 0   Unnamed: 0  79092 non-null  int64 \n",
      " 1   Tanggal     79092 non-null  object\n",
      " 2   User ID     79092 non-null  object\n",
      " 3   Data Teks   79092 non-null  object\n",
      "dtypes: int64(1), object(3)\n",
      "memory usage: 3.0+ MB\n"
     ]
    }
   ],
   "source": [
    "# Import data\n",
    "# Load Dataset\n",
    "data1 = pd.read_csv('Data Final\\Data_1_Raw\\Indihome.csv')\n",
    "data2 = pd.read_csv('Data Final\\Data_1_Raw\\indihomecare.csv')\n",
    "# Concating data\n",
    "data = pd.concat([data1, data2])\n",
    "data.info()"
   ]
  },
  {
   "cell_type": "code",
   "execution_count": 8,
   "metadata": {},
   "outputs": [],
   "source": [
    "# data = data.drop_duplicates('Data Teks')\n",
    "# data.info()"
   ]
  },
  {
   "cell_type": "code",
   "execution_count": 9,
   "metadata": {},
   "outputs": [
    {
     "name": "stdout",
     "output_type": "stream",
     "text": [
      "<class 'pandas.core.frame.DataFrame'>\n",
      "Int64Index: 8000 entries, 12473 to 27289\n",
      "Data columns (total 4 columns):\n",
      " #   Column      Non-Null Count  Dtype \n",
      "---  ------      --------------  ----- \n",
      " 0   Unnamed: 0  8000 non-null   int64 \n",
      " 1   Tanggal     8000 non-null   object\n",
      " 2   User ID     8000 non-null   object\n",
      " 3   Data Teks   8000 non-null   object\n",
      "dtypes: int64(1), object(3)\n",
      "memory usage: 312.5+ KB\n"
     ]
    }
   ],
   "source": [
    "BANYAK_SAMPLE_DATA = 8000\n",
    "sample = data.sample(n=BANYAK_SAMPLE_DATA, random_state=42)\n",
    "sample.info()"
   ]
  },
  {
   "cell_type": "code",
   "execution_count": 10,
   "metadata": {},
   "outputs": [],
   "source": [
    "sample.to_csv('Data Final\\Data_2_sampel\\Indihome_all.csv')"
   ]
  }
 ],
 "metadata": {
  "interpreter": {
   "hash": "8da01e5a71448ea74f54d88afa8911010d1d12e23bc7e103d40d5def4a09152c"
  },
  "kernelspec": {
   "display_name": "Python 3.9.7 64-bit",
   "language": "python",
   "name": "python3"
  },
  "language_info": {
   "codemirror_mode": {
    "name": "ipython",
    "version": 3
   },
   "file_extension": ".py",
   "mimetype": "text/x-python",
   "name": "python",
   "nbconvert_exporter": "python",
   "pygments_lexer": "ipython3",
   "version": "3.9.7"
  },
  "orig_nbformat": 4
 },
 "nbformat": 4,
 "nbformat_minor": 2
}
