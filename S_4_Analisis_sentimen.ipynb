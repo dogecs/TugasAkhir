{
 "cells": [
  {
   "cell_type": "markdown",
   "metadata": {},
   "source": [
    "# = Analisis Sentimen ="
   ]
  },
  {
   "cell_type": "code",
   "execution_count": null,
   "metadata": {},
   "outputs": [],
   "source": [
    "import os\n",
    "import csv\n",
    "import pandas as pd\n",
    "import numpy as np\n",
    "import string\n",
    "import re\n",
    "import nltk\n",
    "from sklearn import pipeline\n",
    "from Sastrawi.Stemmer.StemmerFactory import StemmerFactory\n",
    "from Sastrawi.StopWordRemover.StopWordRemoverFactory import StopWordRemoverFactory\n",
    "\n",
    "#Visualisasi\n",
    "import matplotlib.pyplot as plt\n",
    "import seaborn as sns"
   ]
  },
  {
   "cell_type": "markdown",
   "metadata": {},
   "source": [
    "# = Load Data ="
   ]
  },
  {
   "cell_type": "code",
   "execution_count": null,
   "metadata": {},
   "outputs": [],
   "source": [
    "# ------ Data Text --------\n",
    "# csv Data name\n",
    "Data_sampel = ('E:\\Program\\[2] Program\\AnSent\\Data\\Data_2_sampel\\Indihome_all.csv')\n",
    "Data_rem = ('E:\\Program\\[2] Program\\AnSent\\Data\\Data_2_S_Remove\\Rem_indihome.csv') #remove duppilcate\n",
    "Data_prepro = ('E:\\Program\\[2] Program\\AnSent\\Data\\Data_4_prepro\\Pre_Indihome.csv')\n",
    "# Data_prepro_2 = ('Data\\Data_4_Prepro_rem\\Indihome.csv') \n",
    "Data_lex = ('E:\\Program\\[2] Program\\AnSent\\Data\\Data_5_Lex_sen\\Lex_Indihome.csv')"
   ]
  },
  {
   "cell_type": "code",
   "execution_count": null,
   "metadata": {},
   "outputs": [
    {
     "data": {
      "text/html": [
       "<div>\n",
       "<style scoped>\n",
       "    .dataframe tbody tr th:only-of-type {\n",
       "        vertical-align: middle;\n",
       "    }\n",
       "\n",
       "    .dataframe tbody tr th {\n",
       "        vertical-align: top;\n",
       "    }\n",
       "\n",
       "    .dataframe thead th {\n",
       "        text-align: right;\n",
       "    }\n",
       "</style>\n",
       "<table border=\"1\" class=\"dataframe\">\n",
       "  <thead>\n",
       "    <tr style=\"text-align: right;\">\n",
       "      <th></th>\n",
       "      <th>Unnamed: 0</th>\n",
       "      <th>Unnamed: 0.1</th>\n",
       "      <th>Tanggal</th>\n",
       "      <th>User ID</th>\n",
       "      <th>Data Teks</th>\n",
       "    </tr>\n",
       "  </thead>\n",
       "  <tbody>\n",
       "    <tr>\n",
       "      <th>0</th>\n",
       "      <td>12473</td>\n",
       "      <td>12473</td>\n",
       "      <td>2021-10-27 07:31:26+00:00</td>\n",
       "      <td>arifsaadil</td>\n",
       "      <td>@IndiHomeCare Sudah dilakukan sesuai DM, belum...</td>\n",
       "    </tr>\n",
       "    <tr>\n",
       "      <th>1</th>\n",
       "      <td>9030</td>\n",
       "      <td>9030</td>\n",
       "      <td>2021-10-11 10:42:41+00:00</td>\n",
       "      <td>tojizru</td>\n",
       "      <td>@chifoeyuu P @IndiHome</td>\n",
       "    </tr>\n",
       "    <tr>\n",
       "      <th>2</th>\n",
       "      <td>8294</td>\n",
       "      <td>8294</td>\n",
       "      <td>2021-10-30 05:33:15+00:00</td>\n",
       "      <td>IndiHomeCare</td>\n",
       "      <td>@DilaPong Kak Dila. Uci cek updatenya dijadwal...</td>\n",
       "    </tr>\n",
       "    <tr>\n",
       "      <th>3</th>\n",
       "      <td>9506</td>\n",
       "      <td>9506</td>\n",
       "      <td>2021-10-09 12:36:33+00:00</td>\n",
       "      <td>lalafindyou_</td>\n",
       "      <td>@IndiHome ni kapan ya wifinya bener. Aku mau n...</td>\n",
       "    </tr>\n",
       "    <tr>\n",
       "      <th>4</th>\n",
       "      <td>3036</td>\n",
       "      <td>3036</td>\n",
       "      <td>2021-10-23 11:43:16+00:00</td>\n",
       "      <td>Razyajii</td>\n",
       "      <td>Oy Mola TV di Indihome nape tak bisa dibuka, a...</td>\n",
       "    </tr>\n",
       "  </tbody>\n",
       "</table>\n",
       "</div>"
      ],
      "text/plain": [
       "   Unnamed: 0  Unnamed: 0.1                    Tanggal       User ID  \\\n",
       "0       12473         12473  2021-10-27 07:31:26+00:00    arifsaadil   \n",
       "1        9030          9030  2021-10-11 10:42:41+00:00       tojizru   \n",
       "2        8294          8294  2021-10-30 05:33:15+00:00  IndiHomeCare   \n",
       "3        9506          9506  2021-10-09 12:36:33+00:00  lalafindyou_   \n",
       "4        3036          3036  2021-10-23 11:43:16+00:00      Razyajii   \n",
       "\n",
       "                                           Data Teks  \n",
       "0  @IndiHomeCare Sudah dilakukan sesuai DM, belum...  \n",
       "1                             @chifoeyuu P @IndiHome  \n",
       "2  @DilaPong Kak Dila. Uci cek updatenya dijadwal...  \n",
       "3  @IndiHome ni kapan ya wifinya bener. Aku mau n...  \n",
       "4  Oy Mola TV di Indihome nape tak bisa dibuka, a...  "
      ]
     },
     "execution_count": 119,
     "metadata": {},
     "output_type": "execute_result"
    }
   ],
   "source": [
    "#data1 = data input\n",
    "data1 = pd.read_csv(Data_sampel, sep=(','))\n",
    "data1.head()\n"
   ]
  },
  {
   "cell_type": "markdown",
   "metadata": {},
   "source": [
    "# Remove Duplicate"
   ]
  },
  {
   "cell_type": "code",
   "execution_count": null,
   "metadata": {},
   "outputs": [
    {
     "name": "stdout",
     "output_type": "stream",
     "text": [
      "Jumlah data awal: 8000\n",
      "Jumlah data yang sama: 211\n",
      "Jumlah data sekarang: 7789\n"
     ]
    }
   ],
   "source": [
    "# #sort by name or number\n",
    "# data1.sort_values('Data Teks_Stopword', ascending=False)\n",
    "\n",
    "# jumlah data awal\n",
    "index = data1.index\n",
    "jumlah = len(index)\n",
    "\n",
    "print('Jumlah data awal:',jumlah)\n",
    "\n",
    "#jumlah data yang sama\n",
    "data_sama = data1.duplicated(subset= \"Data Teks\").sum()\n",
    "print('Jumlah data yang sama:',data_sama)\n",
    "\n",
    "#remove duplicate data\n",
    "remove_data = data1.drop_duplicates(subset = 'Data Teks', keep = 'first', inplace = True)\n",
    "index = data1.index\n",
    "jumlah = len(index)\n",
    "\n",
    "print('Jumlah data sekarang:',jumlah)\n",
    "data1.to_csv(Data_rem)"
   ]
  },
  {
   "cell_type": "markdown",
   "metadata": {},
   "source": [
    "# = Pre-Processing ="
   ]
  },
  {
   "cell_type": "markdown",
   "metadata": {},
   "source": [
    "# = CaseFolding ="
   ]
  },
  {
   "cell_type": "code",
   "execution_count": null,
   "metadata": {},
   "outputs": [
    {
     "data": {
      "text/html": [
       "<div>\n",
       "<style scoped>\n",
       "    .dataframe tbody tr th:only-of-type {\n",
       "        vertical-align: middle;\n",
       "    }\n",
       "\n",
       "    .dataframe tbody tr th {\n",
       "        vertical-align: top;\n",
       "    }\n",
       "\n",
       "    .dataframe thead th {\n",
       "        text-align: right;\n",
       "    }\n",
       "</style>\n",
       "<table border=\"1\" class=\"dataframe\">\n",
       "  <thead>\n",
       "    <tr style=\"text-align: right;\">\n",
       "      <th></th>\n",
       "      <th>Unnamed: 0</th>\n",
       "      <th>Unnamed: 0.1</th>\n",
       "      <th>Tanggal</th>\n",
       "      <th>User ID</th>\n",
       "      <th>Data Teks</th>\n",
       "      <th>Data Teks_CaseFolding</th>\n",
       "    </tr>\n",
       "  </thead>\n",
       "  <tbody>\n",
       "    <tr>\n",
       "      <th>0</th>\n",
       "      <td>12473</td>\n",
       "      <td>12473</td>\n",
       "      <td>2021-10-27 07:31:26+00:00</td>\n",
       "      <td>arifsaadil</td>\n",
       "      <td>@IndiHomeCare Sudah dilakukan sesuai DM, belum...</td>\n",
       "      <td>sudah dilakukan sesuai belum bisa</td>\n",
       "    </tr>\n",
       "    <tr>\n",
       "      <th>1</th>\n",
       "      <td>9030</td>\n",
       "      <td>9030</td>\n",
       "      <td>2021-10-11 10:42:41+00:00</td>\n",
       "      <td>tojizru</td>\n",
       "      <td>@chifoeyuu P @IndiHome</td>\n",
       "      <td></td>\n",
       "    </tr>\n",
       "    <tr>\n",
       "      <th>2</th>\n",
       "      <td>8294</td>\n",
       "      <td>8294</td>\n",
       "      <td>2021-10-30 05:33:15+00:00</td>\n",
       "      <td>IndiHomeCare</td>\n",
       "      <td>@DilaPong Kak Dila. Uci cek updatenya dijadwal...</td>\n",
       "      <td>kak dila uci cek updatenya dijadwalkan kembali...</td>\n",
       "    </tr>\n",
       "    <tr>\n",
       "      <th>3</th>\n",
       "      <td>9506</td>\n",
       "      <td>9506</td>\n",
       "      <td>2021-10-09 12:36:33+00:00</td>\n",
       "      <td>lalafindyou_</td>\n",
       "      <td>@IndiHome ni kapan ya wifinya bener. Aku mau n...</td>\n",
       "      <td>kapan wifinya bener aku mau nugas hikdddd pad...</td>\n",
       "    </tr>\n",
       "    <tr>\n",
       "      <th>4</th>\n",
       "      <td>3036</td>\n",
       "      <td>3036</td>\n",
       "      <td>2021-10-23 11:43:16+00:00</td>\n",
       "      <td>Razyajii</td>\n",
       "      <td>Oy Mola TV di Indihome nape tak bisa dibuka, a...</td>\n",
       "      <td>mola indihome nape tak bisa dibuka appsnya il...</td>\n",
       "    </tr>\n",
       "  </tbody>\n",
       "</table>\n",
       "</div>"
      ],
      "text/plain": [
       "   Unnamed: 0  Unnamed: 0.1                    Tanggal       User ID  \\\n",
       "0       12473         12473  2021-10-27 07:31:26+00:00    arifsaadil   \n",
       "1        9030          9030  2021-10-11 10:42:41+00:00       tojizru   \n",
       "2        8294          8294  2021-10-30 05:33:15+00:00  IndiHomeCare   \n",
       "3        9506          9506  2021-10-09 12:36:33+00:00  lalafindyou_   \n",
       "4        3036          3036  2021-10-23 11:43:16+00:00      Razyajii   \n",
       "\n",
       "                                           Data Teks  \\\n",
       "0  @IndiHomeCare Sudah dilakukan sesuai DM, belum...   \n",
       "1                             @chifoeyuu P @IndiHome   \n",
       "2  @DilaPong Kak Dila. Uci cek updatenya dijadwal...   \n",
       "3  @IndiHome ni kapan ya wifinya bener. Aku mau n...   \n",
       "4  Oy Mola TV di Indihome nape tak bisa dibuka, a...   \n",
       "\n",
       "                               Data Teks_CaseFolding  \n",
       "0                  sudah dilakukan sesuai belum bisa  \n",
       "1                                                     \n",
       "2  kak dila uci cek updatenya dijadwalkan kembali...  \n",
       "3   kapan wifinya bener aku mau nugas hikdddd pad...  \n",
       "4   mola indihome nape tak bisa dibuka appsnya il...  "
      ]
     },
     "execution_count": 121,
     "metadata": {},
     "output_type": "execute_result"
    }
   ],
   "source": [
    "# ------ Proses CaseFolding --------\n",
    "#------ Clean Text --------\n",
    "#casefolding\n",
    "data1['Data Teks_CaseFolding'] = data1['Data Teks'].str.lower()\n",
    "\n",
    "def clean_text(tweet_clean):\n",
    "  tweet_clean = ' '.join(re.sub(\"(@[A-Za-z0-9]+)|([^0-9A-Za-z \\t])|(\\w+:\\/\\/\\S+)\",\" \",str(tweet_clean)).split()) #mengghilangkan data teks (@, # dan link)\n",
    "  tweet_clean = re.sub(r'\\b\\w{1,2}\\b', '', tweet_clean) #menghilangkan 2 kata\n",
    "  tweet_clean = re.sub('\\s+',' ',tweet_clean)\n",
    "  tweet_clean = re.sub(r\"\\d+\", \"\", tweet_clean)\n",
    "  #tweet_clean = removeDupWithOrder(tweet_clean) #mengghilangkan kata duplikat\n",
    "  tweet_clean = tweet_clean.translate(str.maketrans(\"\",\"\",string.punctuation))# ini untuk apa \n",
    "  return tweet_clean\n",
    "data1['Data Teks_CaseFolding'] = data1['Data Teks_CaseFolding'].apply(lambda x: clean_text(x))\n",
    "data1.head()"
   ]
  },
  {
   "cell_type": "markdown",
   "metadata": {},
   "source": [
    "# = Normalize ="
   ]
  },
  {
   "cell_type": "code",
   "execution_count": null,
   "metadata": {},
   "outputs": [],
   "source": [
    "alay_dict = pd.read_csv(r'E:\\Program\\[2] Program\\AnSent\\Dict_Used\\kamus_baku.csv', encoding='latin-1', header=None)\n",
    "alay_dict = alay_dict.rename(columns={0: 'original', \n",
    "                                      1: 'replacement'})\n",
    "alay_dict_map = dict(zip(alay_dict['original'], alay_dict['replacement']))\n",
    "def normalize_alay(text):\n",
    "    return ' '.join([alay_dict_map[word] if word in alay_dict_map else word for word in text.split(' ')])\n",
    "\n",
    "data1['Data Teks_clean_alay'] = data1['Data Teks_CaseFolding'].apply(normalize_alay) \n",
    "data1.drop_duplicates(keep=False,inplace=True)"
   ]
  },
  {
   "cell_type": "markdown",
   "metadata": {},
   "source": [
    "# = Tokenize ="
   ]
  },
  {
   "cell_type": "code",
   "execution_count": null,
   "metadata": {},
   "outputs": [],
   "source": [
    "\n"
   ]
  },
  {
   "cell_type": "code",
   "execution_count": null,
   "metadata": {},
   "outputs": [
    {
     "data": {
      "text/html": [
       "<div>\n",
       "<style scoped>\n",
       "    .dataframe tbody tr th:only-of-type {\n",
       "        vertical-align: middle;\n",
       "    }\n",
       "\n",
       "    .dataframe tbody tr th {\n",
       "        vertical-align: top;\n",
       "    }\n",
       "\n",
       "    .dataframe thead th {\n",
       "        text-align: right;\n",
       "    }\n",
       "</style>\n",
       "<table border=\"1\" class=\"dataframe\">\n",
       "  <thead>\n",
       "    <tr style=\"text-align: right;\">\n",
       "      <th></th>\n",
       "      <th>Unnamed: 0</th>\n",
       "      <th>Unnamed: 0.1</th>\n",
       "      <th>Tanggal</th>\n",
       "      <th>User ID</th>\n",
       "      <th>Data Teks</th>\n",
       "      <th>Data Teks_CaseFolding</th>\n",
       "      <th>Data Teks_clean_alay</th>\n",
       "      <th>Data Teks_Token</th>\n",
       "    </tr>\n",
       "  </thead>\n",
       "  <tbody>\n",
       "    <tr>\n",
       "      <th>0</th>\n",
       "      <td>12473</td>\n",
       "      <td>12473</td>\n",
       "      <td>2021-10-27 07:31:26+00:00</td>\n",
       "      <td>arifsaadil</td>\n",
       "      <td>@IndiHomeCare Sudah dilakukan sesuai DM, belum...</td>\n",
       "      <td>sudah dilakukan sesuai belum bisa</td>\n",
       "      <td>sudah dilakukan sesuai belum bisa</td>\n",
       "      <td>[sudah, dilakukan, sesuai, belum, bisa]</td>\n",
       "    </tr>\n",
       "    <tr>\n",
       "      <th>1</th>\n",
       "      <td>9030</td>\n",
       "      <td>9030</td>\n",
       "      <td>2021-10-11 10:42:41+00:00</td>\n",
       "      <td>tojizru</td>\n",
       "      <td>@chifoeyuu P @IndiHome</td>\n",
       "      <td></td>\n",
       "      <td></td>\n",
       "      <td>[]</td>\n",
       "    </tr>\n",
       "    <tr>\n",
       "      <th>2</th>\n",
       "      <td>8294</td>\n",
       "      <td>8294</td>\n",
       "      <td>2021-10-30 05:33:15+00:00</td>\n",
       "      <td>IndiHomeCare</td>\n",
       "      <td>@DilaPong Kak Dila. Uci cek updatenya dijadwal...</td>\n",
       "      <td>kak dila uci cek updatenya dijadwalkan kembali...</td>\n",
       "      <td>kak dila uci cek updatenya dijadwalkan kembali...</td>\n",
       "      <td>[kak, dila, uci, cek, updatenya, dijadwalkan, ...</td>\n",
       "    </tr>\n",
       "    <tr>\n",
       "      <th>3</th>\n",
       "      <td>9506</td>\n",
       "      <td>9506</td>\n",
       "      <td>2021-10-09 12:36:33+00:00</td>\n",
       "      <td>lalafindyou_</td>\n",
       "      <td>@IndiHome ni kapan ya wifinya bener. Aku mau n...</td>\n",
       "      <td>kapan wifinya bener aku mau nugas hikdddd pad...</td>\n",
       "      <td>kapan wifinya benar saya mau nugas hikdddd pa...</td>\n",
       "      <td>[, kapan, wifinya, benar, saya, mau, nugas, hi...</td>\n",
       "    </tr>\n",
       "    <tr>\n",
       "      <th>4</th>\n",
       "      <td>3036</td>\n",
       "      <td>3036</td>\n",
       "      <td>2021-10-23 11:43:16+00:00</td>\n",
       "      <td>Razyajii</td>\n",
       "      <td>Oy Mola TV di Indihome nape tak bisa dibuka, a...</td>\n",
       "      <td>mola indihome nape tak bisa dibuka appsnya il...</td>\n",
       "      <td>mola indihome nape tidak bisa dibuka appsnya ...</td>\n",
       "      <td>[, mola, indihome, nape, tidak, bisa, dibuka, ...</td>\n",
       "    </tr>\n",
       "  </tbody>\n",
       "</table>\n",
       "</div>"
      ],
      "text/plain": [
       "   Unnamed: 0  Unnamed: 0.1                    Tanggal       User ID  \\\n",
       "0       12473         12473  2021-10-27 07:31:26+00:00    arifsaadil   \n",
       "1        9030          9030  2021-10-11 10:42:41+00:00       tojizru   \n",
       "2        8294          8294  2021-10-30 05:33:15+00:00  IndiHomeCare   \n",
       "3        9506          9506  2021-10-09 12:36:33+00:00  lalafindyou_   \n",
       "4        3036          3036  2021-10-23 11:43:16+00:00      Razyajii   \n",
       "\n",
       "                                           Data Teks  \\\n",
       "0  @IndiHomeCare Sudah dilakukan sesuai DM, belum...   \n",
       "1                             @chifoeyuu P @IndiHome   \n",
       "2  @DilaPong Kak Dila. Uci cek updatenya dijadwal...   \n",
       "3  @IndiHome ni kapan ya wifinya bener. Aku mau n...   \n",
       "4  Oy Mola TV di Indihome nape tak bisa dibuka, a...   \n",
       "\n",
       "                               Data Teks_CaseFolding  \\\n",
       "0                  sudah dilakukan sesuai belum bisa   \n",
       "1                                                      \n",
       "2  kak dila uci cek updatenya dijadwalkan kembali...   \n",
       "3   kapan wifinya bener aku mau nugas hikdddd pad...   \n",
       "4   mola indihome nape tak bisa dibuka appsnya il...   \n",
       "\n",
       "                                Data Teks_clean_alay  \\\n",
       "0                  sudah dilakukan sesuai belum bisa   \n",
       "1                                                      \n",
       "2  kak dila uci cek updatenya dijadwalkan kembali...   \n",
       "3   kapan wifinya benar saya mau nugas hikdddd pa...   \n",
       "4   mola indihome nape tidak bisa dibuka appsnya ...   \n",
       "\n",
       "                                     Data Teks_Token  \n",
       "0            [sudah, dilakukan, sesuai, belum, bisa]  \n",
       "1                                                 []  \n",
       "2  [kak, dila, uci, cek, updatenya, dijadwalkan, ...  \n",
       "3  [, kapan, wifinya, benar, saya, mau, nugas, hi...  \n",
       "4  [, mola, indihome, nape, tidak, bisa, dibuka, ...  "
      ]
     },
     "execution_count": 123,
     "metadata": {},
     "output_type": "execute_result"
    }
   ],
   "source": [
    "# ------ Proses Tokenizing --------\n",
    "def token(tweet_clean):\n",
    "  tweet_clean = re.split('\\W+', tweet_clean)\n",
    "  return tweet_clean\n",
    "\n",
    "data1['Data Teks_Token'] = data1['Data Teks_clean_alay'].apply(lambda x: token(x))\n",
    "data1.head()"
   ]
  },
  {
   "cell_type": "markdown",
   "metadata": {},
   "source": [
    "# = Stopwords ="
   ]
  },
  {
   "cell_type": "code",
   "execution_count": null,
   "metadata": {},
   "outputs": [
    {
     "name": "stdout",
     "output_type": "stream",
     "text": [
      "758\n",
      "0                                                [sesuai]\n",
      "1                                                      []\n",
      "2       [dila, uci, cek, updatenya, dijadwalkan, esok,...\n",
      "3                      [, wifinya, nugas, hikdddd, bayar]\n",
      "4        [, mola, indihome, nape, dibuka, appsnya, ilang]\n",
      "                              ...                        \n",
      "7994    [, admin, koneksi, lost, koneksi, indikator, r...\n",
      "7995    [halo, nana, bantu, respon, silahkan, cek, ter...\n",
      "7996    [halo, sobat, keluhan, seputar, produk, indiho...\n",
      "7997    [hai, tettyrhs, maaf, terkait, informasi, kelu...\n",
      "7999           [admin, digit, mohon, bantuannya, makasih]\n",
      "Name: Data Teks_Stopword, Length: 7789, dtype: object\n"
     ]
    },
    {
     "name": "stderr",
     "output_type": "stream",
     "text": [
      "[nltk_data] Downloading package stopwords to\n",
      "[nltk_data]     C:\\Users\\ASUS\\AppData\\Roaming\\nltk_data...\n",
      "[nltk_data]   Package stopwords is already up-to-date!\n"
     ]
    }
   ],
   "source": [
    "nltk.download('stopwords')\n",
    "from nltk.corpus import stopwords\n",
    "# ----------------------- get stopword from NLTK stopword -------------------------------\n",
    "# get stopword indonesia\n",
    "list_stopwords = stopwords.words('indonesian')\n",
    "print(len(list_stopwords))\n",
    "\n",
    "# ---------------------------- manualy add stopword  ------------------------------------\n",
    "# append additional stopword\n",
    "list_stopwords.extend(['b',\"yg\", \"dg\", \"rt\", \"dgn\", \"ny\", \"d\", 'klo', \n",
    "                       'kalo', 'amp', 'biar', 'bikin', 'bilang', \n",
    "                       'gak', 'ga', 'krn', 'nya', 'nih', 'sih', \n",
    "                       'si', 'tau', 'tdk', 'tuh', 'utk', 'ya', \n",
    "                       'jd', 'jgn', 'sdh', 'aja', 'n', 't', \n",
    "                       'nyg', 'hehe', 'pen', 'u', 'nan', 'loh', 'rt',\n",
    "                       '&amp', 'yah', 'kak'])\n",
    "len(list_stopwords)\n",
    "# ----------------------- add stopword from txt file ------------------------------------\n",
    "# read txt stopword using pandas\n",
    "txt_stopword = pd.read_csv(\"E:\\Program\\[2] Program\\AnSent\\Dict_Used\\stopwordsID.csv\", names= [\"stopwords\"], header = None)\n",
    "\n",
    "# convert stopword string to list & append additional stopword\n",
    "list_stopwords.extend(txt_stopword[\"stopwords\"][0].split(' '))\n",
    "len(list_stopwords)\n",
    "# ---------------------------------------------------------------------------------------\n",
    "\n",
    "# convert list to dictionary\n",
    "list_stopwords = set(list_stopwords)\n",
    "\n",
    "\n",
    "#remove stopword pada list token\n",
    "def stopwords_removal(words):\n",
    "    return [word for word in words if word not in list_stopwords]\n",
    "\n",
    "data1['Data Teks_Stopword'] = data1['Data Teks_Token'].apply(lambda x: stopwords_removal(x)) \n",
    "\n",
    "\n",
    "print(data1['Data Teks_Stopword'])"
   ]
  },
  {
   "cell_type": "markdown",
   "metadata": {},
   "source": [
    "# Hide Code"
   ]
  },
  {
   "cell_type": "code",
   "execution_count": null,
   "metadata": {},
   "outputs": [],
   "source": [
    "# import nltk\n",
    "# from nltk.tokenize import word_tokenize\n",
    "# nltk.download('punkt') \n",
    "\n",
    "# # NLTK word rokenize \n",
    "# def word_tokenize_wrapper(text):\n",
    "#     return word_tokenize(text)\n",
    "\n",
    "# data1['Data Teks_Token'] = data1['Data Teks_clean_alay'].apply(word_tokenize_wrapper)"
   ]
  },
  {
   "cell_type": "code",
   "execution_count": null,
   "metadata": {},
   "outputs": [],
   "source": [
    "#membersihkan @ pada username\n",
    "#def clean_text(tweet_clean):\n",
    " #   tweet_clean = re.sub(r'[@]', r' ', tweet_clean)\n",
    " #   return tweet_clean\n",
    "#df['author'] = df['author'].apply(lambda x: clean_text(x))\n",
    "#df.head(5)"
   ]
  },
  {
   "cell_type": "code",
   "execution_count": null,
   "metadata": {},
   "outputs": [],
   "source": [
    "# # ------ Proses Tokenizing --------\n",
    "# def token(tweet_clean):\n",
    "#   tweet_clean = re.split('\\W+', tweet_clean)\n",
    "#   return tweet_clean\n",
    "\n",
    "# data1['Data Teks_Token'] = data1['Data Teks_clean_alay'].apply(token)\n",
    "# data1.head()"
   ]
  },
  {
   "cell_type": "code",
   "execution_count": null,
   "metadata": {},
   "outputs": [],
   "source": [
    "# # ------ Text Filtering --------\n",
    "# #import stopwords (nltk)\n",
    "# nltk.download('stopwords')\n",
    "# from nltk.corpus import stopwords\n",
    "# filtering = stopwords.words('indonesian', 'english')\n",
    "\n",
    "# def remove_stopwords(tweet_clean):\n",
    "#   x = []\n",
    "#   data1 = []\n",
    "#   def myFunc(x):\n",
    "#     if x in filtering:\n",
    "#       return False\n",
    "#     else:\n",
    "#       return True\n",
    "#   fit = filter(myFunc, tweet_clean)\n",
    "#   for x in fit:\n",
    "#     data1.append(x)\n",
    "#   return data1\n",
    "# data1['Data Teks_Filter'] = data1['Data Teks_Token'].apply(remove_stopwords)\n",
    "# data1.head(5)"
   ]
  },
  {
   "cell_type": "code",
   "execution_count": null,
   "metadata": {},
   "outputs": [],
   "source": [
    "# Stemming\n",
    "    # pada proses ini tidak dilakukan,\n",
    "    # karena proses stemming sangat lama,\n",
    "    # membutuhkan kiranya 1 jam untuk memproses\n",
    "    # 6000an data\n",
    "\n",
    "# from Sastrawi.Stemmer.StemmerFactory import StemmerFactory\n",
    "\n",
    "# def stemming(baris):\n",
    "#   factory = StemmerFactory()\n",
    "#   stemmer = factory.create_stemmer()\n",
    "#   do = []\n",
    "#   for w in baris:\n",
    "#     dt = stemmer.stem(w)\n",
    "#     do.append(dt)\n",
    "#   d_clean = []\n",
    "#   d_clean = ' '.join(do)\n",
    "#   print(d_clean)\n",
    "#   return d_clean\n",
    "\n",
    "# data1['Data Teks_Stemming'] = data1['Data Teks_Stopword'].apply(lambda x: stemming(x))\n",
    "# data1.head(5)"
   ]
  },
  {
   "cell_type": "markdown",
   "metadata": {},
   "source": [
    "# = Stemming ="
   ]
  },
  {
   "cell_type": "code",
   "execution_count": null,
   "metadata": {},
   "outputs": [],
   "source": []
  },
  {
   "cell_type": "code",
   "execution_count": null,
   "metadata": {},
   "outputs": [
    {
     "data": {
      "text/html": [
       "<div>\n",
       "<style scoped>\n",
       "    .dataframe tbody tr th:only-of-type {\n",
       "        vertical-align: middle;\n",
       "    }\n",
       "\n",
       "    .dataframe tbody tr th {\n",
       "        vertical-align: top;\n",
       "    }\n",
       "\n",
       "    .dataframe thead th {\n",
       "        text-align: right;\n",
       "    }\n",
       "</style>\n",
       "<table border=\"1\" class=\"dataframe\">\n",
       "  <thead>\n",
       "    <tr style=\"text-align: right;\">\n",
       "      <th></th>\n",
       "      <th>Unnamed: 0</th>\n",
       "      <th>Unnamed: 0.1</th>\n",
       "      <th>Tanggal</th>\n",
       "      <th>User ID</th>\n",
       "      <th>Data Teks</th>\n",
       "      <th>Data Teks_CaseFolding</th>\n",
       "      <th>Data Teks_clean_alay</th>\n",
       "      <th>Data Teks_Token</th>\n",
       "      <th>Data Teks_Stopword</th>\n",
       "      <th>Data Teks_Stemming</th>\n",
       "    </tr>\n",
       "  </thead>\n",
       "  <tbody>\n",
       "    <tr>\n",
       "      <th>0</th>\n",
       "      <td>12473</td>\n",
       "      <td>12473</td>\n",
       "      <td>2021-10-27 07:31:26+00:00</td>\n",
       "      <td>arifsaadil</td>\n",
       "      <td>@IndiHomeCare Sudah dilakukan sesuai DM, belum...</td>\n",
       "      <td>sudah dilakukan sesuai belum bisa</td>\n",
       "      <td>sudah dilakukan sesuai belum bisa</td>\n",
       "      <td>[sudah, dilakukan, sesuai, belum, bisa]</td>\n",
       "      <td>[sesuai]</td>\n",
       "      <td>sesuai</td>\n",
       "    </tr>\n",
       "    <tr>\n",
       "      <th>1</th>\n",
       "      <td>9030</td>\n",
       "      <td>9030</td>\n",
       "      <td>2021-10-11 10:42:41+00:00</td>\n",
       "      <td>tojizru</td>\n",
       "      <td>@chifoeyuu P @IndiHome</td>\n",
       "      <td></td>\n",
       "      <td></td>\n",
       "      <td>[]</td>\n",
       "      <td>[]</td>\n",
       "      <td></td>\n",
       "    </tr>\n",
       "    <tr>\n",
       "      <th>2</th>\n",
       "      <td>8294</td>\n",
       "      <td>8294</td>\n",
       "      <td>2021-10-30 05:33:15+00:00</td>\n",
       "      <td>IndiHomeCare</td>\n",
       "      <td>@DilaPong Kak Dila. Uci cek updatenya dijadwal...</td>\n",
       "      <td>kak dila uci cek updatenya dijadwalkan kembali...</td>\n",
       "      <td>kak dila uci cek updatenya dijadwalkan kembali...</td>\n",
       "      <td>[kak, dila, uci, cek, updatenya, dijadwalkan, ...</td>\n",
       "      <td>[dila, uci, cek, updatenya, dijadwalkan, esok,...</td>\n",
       "      <td>dila uci cek updatenya dijadwalkan esok jam pe...</td>\n",
       "    </tr>\n",
       "    <tr>\n",
       "      <th>3</th>\n",
       "      <td>9506</td>\n",
       "      <td>9506</td>\n",
       "      <td>2021-10-09 12:36:33+00:00</td>\n",
       "      <td>lalafindyou_</td>\n",
       "      <td>@IndiHome ni kapan ya wifinya bener. Aku mau n...</td>\n",
       "      <td>kapan wifinya bener aku mau nugas hikdddd pad...</td>\n",
       "      <td>kapan wifinya benar saya mau nugas hikdddd pa...</td>\n",
       "      <td>[, kapan, wifinya, benar, saya, mau, nugas, hi...</td>\n",
       "      <td>[, wifinya, nugas, hikdddd, bayar]</td>\n",
       "      <td>wifinya nugas hikdddd bayar</td>\n",
       "    </tr>\n",
       "    <tr>\n",
       "      <th>4</th>\n",
       "      <td>3036</td>\n",
       "      <td>3036</td>\n",
       "      <td>2021-10-23 11:43:16+00:00</td>\n",
       "      <td>Razyajii</td>\n",
       "      <td>Oy Mola TV di Indihome nape tak bisa dibuka, a...</td>\n",
       "      <td>mola indihome nape tak bisa dibuka appsnya il...</td>\n",
       "      <td>mola indihome nape tidak bisa dibuka appsnya ...</td>\n",
       "      <td>[, mola, indihome, nape, tidak, bisa, dibuka, ...</td>\n",
       "      <td>[, mola, indihome, nape, dibuka, appsnya, ilang]</td>\n",
       "      <td>mola indihome nape dibuka appsnya ilang</td>\n",
       "    </tr>\n",
       "  </tbody>\n",
       "</table>\n",
       "</div>"
      ],
      "text/plain": [
       "   Unnamed: 0  Unnamed: 0.1                    Tanggal       User ID  \\\n",
       "0       12473         12473  2021-10-27 07:31:26+00:00    arifsaadil   \n",
       "1        9030          9030  2021-10-11 10:42:41+00:00       tojizru   \n",
       "2        8294          8294  2021-10-30 05:33:15+00:00  IndiHomeCare   \n",
       "3        9506          9506  2021-10-09 12:36:33+00:00  lalafindyou_   \n",
       "4        3036          3036  2021-10-23 11:43:16+00:00      Razyajii   \n",
       "\n",
       "                                           Data Teks  \\\n",
       "0  @IndiHomeCare Sudah dilakukan sesuai DM, belum...   \n",
       "1                             @chifoeyuu P @IndiHome   \n",
       "2  @DilaPong Kak Dila. Uci cek updatenya dijadwal...   \n",
       "3  @IndiHome ni kapan ya wifinya bener. Aku mau n...   \n",
       "4  Oy Mola TV di Indihome nape tak bisa dibuka, a...   \n",
       "\n",
       "                               Data Teks_CaseFolding  \\\n",
       "0                  sudah dilakukan sesuai belum bisa   \n",
       "1                                                      \n",
       "2  kak dila uci cek updatenya dijadwalkan kembali...   \n",
       "3   kapan wifinya bener aku mau nugas hikdddd pad...   \n",
       "4   mola indihome nape tak bisa dibuka appsnya il...   \n",
       "\n",
       "                                Data Teks_clean_alay  \\\n",
       "0                  sudah dilakukan sesuai belum bisa   \n",
       "1                                                      \n",
       "2  kak dila uci cek updatenya dijadwalkan kembali...   \n",
       "3   kapan wifinya benar saya mau nugas hikdddd pa...   \n",
       "4   mola indihome nape tidak bisa dibuka appsnya ...   \n",
       "\n",
       "                                     Data Teks_Token  \\\n",
       "0            [sudah, dilakukan, sesuai, belum, bisa]   \n",
       "1                                                 []   \n",
       "2  [kak, dila, uci, cek, updatenya, dijadwalkan, ...   \n",
       "3  [, kapan, wifinya, benar, saya, mau, nugas, hi...   \n",
       "4  [, mola, indihome, nape, tidak, bisa, dibuka, ...   \n",
       "\n",
       "                                  Data Teks_Stopword  \\\n",
       "0                                           [sesuai]   \n",
       "1                                                 []   \n",
       "2  [dila, uci, cek, updatenya, dijadwalkan, esok,...   \n",
       "3                 [, wifinya, nugas, hikdddd, bayar]   \n",
       "4   [, mola, indihome, nape, dibuka, appsnya, ilang]   \n",
       "\n",
       "                                  Data Teks_Stemming  \n",
       "0                                             sesuai  \n",
       "1                                                     \n",
       "2  dila uci cek updatenya dijadwalkan esok jam pe...  \n",
       "3                        wifinya nugas hikdddd bayar  \n",
       "4            mola indihome nape dibuka appsnya ilang  "
      ]
     },
     "execution_count": 130,
     "metadata": {},
     "output_type": "execute_result"
    }
   ],
   "source": [
    "stop_removal = data1['Data Teks_Stopword']\n",
    "\n",
    "def fit_stopwords(tweet_clean):\n",
    "    tweet_clean =np.array(tweet_clean)\n",
    "    tweet_clean =' '.join(tweet_clean)\n",
    "#    tweet_clean = tweet_clean.tosring()\n",
    "#    tweet_clean = str(tweet_clean)\n",
    "    return tweet_clean\n",
    "\n",
    "data1['Data Teks_Stemming'] = data1['Data Teks_Stopword'].apply(lambda x: fit_stopwords(x))\n",
    "data1.head(5)"
   ]
  },
  {
   "cell_type": "markdown",
   "metadata": {},
   "source": [
    "# +Save Preprocessing"
   ]
  },
  {
   "cell_type": "code",
   "execution_count": null,
   "metadata": {},
   "outputs": [
    {
     "data": {
      "text/html": [
       "<div>\n",
       "<style scoped>\n",
       "    .dataframe tbody tr th:only-of-type {\n",
       "        vertical-align: middle;\n",
       "    }\n",
       "\n",
       "    .dataframe tbody tr th {\n",
       "        vertical-align: top;\n",
       "    }\n",
       "\n",
       "    .dataframe thead th {\n",
       "        text-align: right;\n",
       "    }\n",
       "</style>\n",
       "<table border=\"1\" class=\"dataframe\">\n",
       "  <thead>\n",
       "    <tr style=\"text-align: right;\">\n",
       "      <th></th>\n",
       "      <th>Unnamed: 0</th>\n",
       "      <th>Unnamed: 0.1</th>\n",
       "      <th>Tanggal</th>\n",
       "      <th>User ID</th>\n",
       "      <th>Data Teks</th>\n",
       "      <th>Data Teks_CaseFolding</th>\n",
       "      <th>Data Teks_clean_alay</th>\n",
       "      <th>Data Teks_Token</th>\n",
       "      <th>Data Teks_Stopword</th>\n",
       "      <th>Data Teks_Stemming</th>\n",
       "    </tr>\n",
       "  </thead>\n",
       "  <tbody>\n",
       "    <tr>\n",
       "      <th>0</th>\n",
       "      <td>12473</td>\n",
       "      <td>12473</td>\n",
       "      <td>2021-10-27 07:31:26+00:00</td>\n",
       "      <td>arifsaadil</td>\n",
       "      <td>@IndiHomeCare Sudah dilakukan sesuai DM, belum...</td>\n",
       "      <td>sudah dilakukan sesuai belum bisa</td>\n",
       "      <td>sudah dilakukan sesuai belum bisa</td>\n",
       "      <td>[sudah, dilakukan, sesuai, belum, bisa]</td>\n",
       "      <td>[sesuai]</td>\n",
       "      <td>sesuai</td>\n",
       "    </tr>\n",
       "    <tr>\n",
       "      <th>1</th>\n",
       "      <td>9030</td>\n",
       "      <td>9030</td>\n",
       "      <td>2021-10-11 10:42:41+00:00</td>\n",
       "      <td>tojizru</td>\n",
       "      <td>@chifoeyuu P @IndiHome</td>\n",
       "      <td></td>\n",
       "      <td></td>\n",
       "      <td>[]</td>\n",
       "      <td>[]</td>\n",
       "      <td></td>\n",
       "    </tr>\n",
       "    <tr>\n",
       "      <th>2</th>\n",
       "      <td>8294</td>\n",
       "      <td>8294</td>\n",
       "      <td>2021-10-30 05:33:15+00:00</td>\n",
       "      <td>IndiHomeCare</td>\n",
       "      <td>@DilaPong Kak Dila. Uci cek updatenya dijadwal...</td>\n",
       "      <td>kak dila uci cek updatenya dijadwalkan kembali...</td>\n",
       "      <td>kak dila uci cek updatenya dijadwalkan kembali...</td>\n",
       "      <td>[kak, dila, uci, cek, updatenya, dijadwalkan, ...</td>\n",
       "      <td>[dila, uci, cek, updatenya, dijadwalkan, esok,...</td>\n",
       "      <td>dila uci cek updatenya dijadwalkan esok jam pe...</td>\n",
       "    </tr>\n",
       "    <tr>\n",
       "      <th>3</th>\n",
       "      <td>9506</td>\n",
       "      <td>9506</td>\n",
       "      <td>2021-10-09 12:36:33+00:00</td>\n",
       "      <td>lalafindyou_</td>\n",
       "      <td>@IndiHome ni kapan ya wifinya bener. Aku mau n...</td>\n",
       "      <td>kapan wifinya bener aku mau nugas hikdddd pad...</td>\n",
       "      <td>kapan wifinya benar saya mau nugas hikdddd pa...</td>\n",
       "      <td>[, kapan, wifinya, benar, saya, mau, nugas, hi...</td>\n",
       "      <td>[, wifinya, nugas, hikdddd, bayar]</td>\n",
       "      <td>wifinya nugas hikdddd bayar</td>\n",
       "    </tr>\n",
       "    <tr>\n",
       "      <th>4</th>\n",
       "      <td>3036</td>\n",
       "      <td>3036</td>\n",
       "      <td>2021-10-23 11:43:16+00:00</td>\n",
       "      <td>Razyajii</td>\n",
       "      <td>Oy Mola TV di Indihome nape tak bisa dibuka, a...</td>\n",
       "      <td>mola indihome nape tak bisa dibuka appsnya il...</td>\n",
       "      <td>mola indihome nape tidak bisa dibuka appsnya ...</td>\n",
       "      <td>[, mola, indihome, nape, tidak, bisa, dibuka, ...</td>\n",
       "      <td>[, mola, indihome, nape, dibuka, appsnya, ilang]</td>\n",
       "      <td>mola indihome nape dibuka appsnya ilang</td>\n",
       "    </tr>\n",
       "  </tbody>\n",
       "</table>\n",
       "</div>"
      ],
      "text/plain": [
       "   Unnamed: 0  Unnamed: 0.1                    Tanggal       User ID  \\\n",
       "0       12473         12473  2021-10-27 07:31:26+00:00    arifsaadil   \n",
       "1        9030          9030  2021-10-11 10:42:41+00:00       tojizru   \n",
       "2        8294          8294  2021-10-30 05:33:15+00:00  IndiHomeCare   \n",
       "3        9506          9506  2021-10-09 12:36:33+00:00  lalafindyou_   \n",
       "4        3036          3036  2021-10-23 11:43:16+00:00      Razyajii   \n",
       "\n",
       "                                           Data Teks  \\\n",
       "0  @IndiHomeCare Sudah dilakukan sesuai DM, belum...   \n",
       "1                             @chifoeyuu P @IndiHome   \n",
       "2  @DilaPong Kak Dila. Uci cek updatenya dijadwal...   \n",
       "3  @IndiHome ni kapan ya wifinya bener. Aku mau n...   \n",
       "4  Oy Mola TV di Indihome nape tak bisa dibuka, a...   \n",
       "\n",
       "                               Data Teks_CaseFolding  \\\n",
       "0                  sudah dilakukan sesuai belum bisa   \n",
       "1                                                      \n",
       "2  kak dila uci cek updatenya dijadwalkan kembali...   \n",
       "3   kapan wifinya bener aku mau nugas hikdddd pad...   \n",
       "4   mola indihome nape tak bisa dibuka appsnya il...   \n",
       "\n",
       "                                Data Teks_clean_alay  \\\n",
       "0                  sudah dilakukan sesuai belum bisa   \n",
       "1                                                      \n",
       "2  kak dila uci cek updatenya dijadwalkan kembali...   \n",
       "3   kapan wifinya benar saya mau nugas hikdddd pa...   \n",
       "4   mola indihome nape tidak bisa dibuka appsnya ...   \n",
       "\n",
       "                                     Data Teks_Token  \\\n",
       "0            [sudah, dilakukan, sesuai, belum, bisa]   \n",
       "1                                                 []   \n",
       "2  [kak, dila, uci, cek, updatenya, dijadwalkan, ...   \n",
       "3  [, kapan, wifinya, benar, saya, mau, nugas, hi...   \n",
       "4  [, mola, indihome, nape, tidak, bisa, dibuka, ...   \n",
       "\n",
       "                                  Data Teks_Stopword  \\\n",
       "0                                           [sesuai]   \n",
       "1                                                 []   \n",
       "2  [dila, uci, cek, updatenya, dijadwalkan, esok,...   \n",
       "3                 [, wifinya, nugas, hikdddd, bayar]   \n",
       "4   [, mola, indihome, nape, dibuka, appsnya, ilang]   \n",
       "\n",
       "                                  Data Teks_Stemming  \n",
       "0                                             sesuai  \n",
       "1                                                     \n",
       "2  dila uci cek updatenya dijadwalkan esok jam pe...  \n",
       "3                        wifinya nugas hikdddd bayar  \n",
       "4            mola indihome nape dibuka appsnya ilang  "
      ]
     },
     "execution_count": 131,
     "metadata": {},
     "output_type": "execute_result"
    }
   ],
   "source": [
    "data1.dropna()\n",
    "# data1['Data Teks_Stemming']=data1['Data Teks_Stemming'].str.replace(' ', '')\n",
    "data1.drop_duplicates(subset='Data Teks_Stemming',\n",
    "                      keep= 'first',inplace=True)\n",
    "data1.to_csv(Data_prepro, index=False, header=True)\n",
    "# data2 = pd.read_csv(Data_prepro, sep=',').dropna(subset=['Data Teks_Stemming'])\n",
    "data1.head(5)"
   ]
  },
  {
   "cell_type": "code",
   "execution_count": null,
   "metadata": {},
   "outputs": [
    {
     "name": "stdout",
     "output_type": "stream",
     "text": [
      "Jumlah data prepo: 6976\n"
     ]
    }
   ],
   "source": [
    "# jumlah data setelah prepro\n",
    "index = data1.index\n",
    "jumlah = len(index)\n",
    "\n",
    "print('Jumlah data prepo:',jumlah)"
   ]
  },
  {
   "cell_type": "code",
   "execution_count": null,
   "metadata": {},
   "outputs": [],
   "source": [
    "#============================================================================================================="
   ]
  },
  {
   "cell_type": "markdown",
   "metadata": {},
   "source": [
    "# +++++++++++++VISUALISASI++++++++++++++++++++"
   ]
  },
  {
   "cell_type": "markdown",
   "metadata": {},
   "source": [
    "# Menghitung 10 Besar Kata yang sering muncul (dari atas)"
   ]
  },
  {
   "cell_type": "code",
   "execution_count": null,
   "metadata": {},
   "outputs": [
    {
     "name": "stdout",
     "output_type": "stream",
     "text": [
      "                   Kata  Banyak\n",
      "0                 nomor    1795\n",
      "1                terima    1698\n",
      "2                 kasih    1677\n",
      "3              internet    1272\n",
      "4                   cek    1235\n",
      "5              silahkan    1062\n",
      "6          informasikan     926\n",
      "7                   hai     920\n",
      "8                  halo     908\n",
      "9              indihome     830\n",
      "10                bantu     757\n",
      "11                  via     723\n",
      "12                admin     722\n",
      "13                kakak     662\n",
      "14             jaringan     659\n",
      "15              dibantu     596\n",
      "16                mohon     546\n",
      "17  semangatdigitalmuda     546\n",
      "18              layanan     535\n",
      "19                bayar     465\n"
     ]
    }
   ],
   "source": [
    "top_N = 20\n",
    "a = data1['Data Teks_Stemming'].str.cat(sep=' ')\n",
    "words = nltk.tokenize.word_tokenize(a)\n",
    "word_dist = nltk.FreqDist(words)\n",
    "rslt = pd.DataFrame(word_dist.most_common(top_N),\n",
    "                    columns=['Kata', 'Banyak'])\n",
    "print(rslt)"
   ]
  },
  {
   "cell_type": "code",
   "execution_count": 135,
   "metadata": {},
   "outputs": [
    {
     "data": {
      "image/png": "[encoded data removed]",
      "text/plain": [
       "<Figure size 720x720 with 1 Axes>"
      ]
     },
     "metadata": {
      "needs_background": "light"
     },
     "output_type": "display_data"
    }
   ],
   "source": [
    "# Plotting Barplot\n",
    "plt.figure(figsize = (10,10))\n",
    "sns.barplot(x = rslt['Kata'],y = rslt['Banyak'])\n",
    "for i, v in enumerate(rslt['Banyak'].tolist()):\n",
    "    plt.text(i-len(str(v))/10-.05, v + 50, str(v),fontsize=10)\n",
    "plt.title('Kata Dengan Bobot Terbesar',fontsize=20)\n",
    "plt.xticks(rotation=90)\n",
    "plt.xlabel('Kata',fontsize=16)\n",
    "plt.ylabel('Frekuensi',fontsize=16)\n",
    "plt.show()"
   ]
  },
  {
   "cell_type": "code",
   "execution_count": null,
   "metadata": {},
   "outputs": [],
   "source": []
  },
  {
   "cell_type": "markdown",
   "metadata": {},
   "source": [
    "# Source CODE\n",
    "https://github.com/commitunuja/analisis-sentimen-naive-bayes-tf-idf/blob/master/.ipynb_checkpoints/Untitled-checkpoint.ipynb"
   ]
  },
  {
   "cell_type": "markdown",
   "metadata": {},
   "source": [
    "# = Lexicon ="
   ]
  },
  {
   "cell_type": "code",
   "execution_count": 136,
   "metadata": {},
   "outputs": [
    {
     "name": "stdout",
     "output_type": "stream",
     "text": [
      "negatif    3535\n",
      "positif    2886\n",
      "netral      555\n",
      "Name: sentimen, dtype: int64\n"
     ]
    }
   ],
   "source": [
    "#sentimen Lexicon\n",
    "#Determine sentiment polarity of tweets using indonesia sentiment lexicon (source : https://github.com/fajri91/InSet)\n",
    "\n",
    "# Loads lexicon positive and negative data\n",
    "lexicon_positive = dict()\n",
    "import csv\n",
    "with open('E:\\Program\\[2] Program\\AnSent\\Dict_Used\\lexicon_positive.csv', 'r') as csvfile:\n",
    "    reader = csv.reader(csvfile, delimiter=',')\n",
    "    for row in reader:\n",
    "        lexicon_positive[row[0]] = int(row[1])\n",
    "\n",
    "lexicon_negative = dict()\n",
    "import csv\n",
    "with open('E:\\Program\\[2] Program\\AnSent\\Dict_Used\\lexicon_negative.csv', 'r') as csvfile:\n",
    "    reader = csv.reader(csvfile, delimiter=',')\n",
    "    for row in reader:\n",
    "        lexicon_negative[row[0]] = int(row[1])\n",
    "        \n",
    "# Function to determine sentiment polarity of tweets        \n",
    "def sentiment_analysis_lexicon_indonesia(text):\n",
    "    #for word in text:\n",
    "    score = 0\n",
    "    for word in text:\n",
    "        if (word in lexicon_positive):\n",
    "            score = score + lexicon_positive[word]\n",
    "    for word in text:\n",
    "        if (word in lexicon_negative):\n",
    "            score = score + lexicon_negative[word]\n",
    "    polarity=''\n",
    "    if (score > 0):\n",
    "        polarity = 'positif'\n",
    "    elif (score < 0):\n",
    "        polarity = 'negatif'\n",
    "    else:\n",
    "        polarity = 'netral'\n",
    "    return score, polarity\n",
    "\n",
    "results = data1['Data Teks_Token'].apply(sentiment_analysis_lexicon_indonesia)\n",
    "results = list(zip(*results))\n",
    "data1['jumlah_polarity'] = results[0]\n",
    "data1['sentimen'] = results[1]\n",
    "print(data1['sentimen'].value_counts())"
   ]
  },
  {
   "cell_type": "markdown",
   "metadata": {},
   "source": [
    "# +Save Leksikon"
   ]
  },
  {
   "cell_type": "code",
   "execution_count": 137,
   "metadata": {},
   "outputs": [
    {
     "data": {
      "text/html": [
       "<div>\n",
       "<style scoped>\n",
       "    .dataframe tbody tr th:only-of-type {\n",
       "        vertical-align: middle;\n",
       "    }\n",
       "\n",
       "    .dataframe tbody tr th {\n",
       "        vertical-align: top;\n",
       "    }\n",
       "\n",
       "    .dataframe thead th {\n",
       "        text-align: right;\n",
       "    }\n",
       "</style>\n",
       "<table border=\"1\" class=\"dataframe\">\n",
       "  <thead>\n",
       "    <tr style=\"text-align: right;\">\n",
       "      <th></th>\n",
       "      <th>Unnamed: 0</th>\n",
       "      <th>Unnamed: 0.1</th>\n",
       "      <th>Tanggal</th>\n",
       "      <th>User ID</th>\n",
       "      <th>Data Teks</th>\n",
       "      <th>Data Teks_CaseFolding</th>\n",
       "      <th>Data Teks_clean_alay</th>\n",
       "      <th>Data Teks_Token</th>\n",
       "      <th>Data Teks_Stopword</th>\n",
       "      <th>Data Teks_Stemming</th>\n",
       "      <th>jumlah_polarity</th>\n",
       "      <th>sentimen</th>\n",
       "    </tr>\n",
       "  </thead>\n",
       "  <tbody>\n",
       "    <tr>\n",
       "      <th>0</th>\n",
       "      <td>12473</td>\n",
       "      <td>12473</td>\n",
       "      <td>2021-10-27 07:31:26+00:00</td>\n",
       "      <td>arifsaadil</td>\n",
       "      <td>@IndiHomeCare Sudah dilakukan sesuai DM, belum...</td>\n",
       "      <td>sudah dilakukan sesuai belum bisa</td>\n",
       "      <td>sudah dilakukan sesuai belum bisa</td>\n",
       "      <td>[sudah, dilakukan, sesuai, belum, bisa]</td>\n",
       "      <td>[sesuai]</td>\n",
       "      <td>sesuai</td>\n",
       "      <td>4</td>\n",
       "      <td>positif</td>\n",
       "    </tr>\n",
       "    <tr>\n",
       "      <th>1</th>\n",
       "      <td>9030</td>\n",
       "      <td>9030</td>\n",
       "      <td>2021-10-11 10:42:41+00:00</td>\n",
       "      <td>tojizru</td>\n",
       "      <td>@chifoeyuu P @IndiHome</td>\n",
       "      <td></td>\n",
       "      <td></td>\n",
       "      <td>[]</td>\n",
       "      <td>[]</td>\n",
       "      <td></td>\n",
       "      <td>0</td>\n",
       "      <td>netral</td>\n",
       "    </tr>\n",
       "    <tr>\n",
       "      <th>2</th>\n",
       "      <td>8294</td>\n",
       "      <td>8294</td>\n",
       "      <td>2021-10-30 05:33:15+00:00</td>\n",
       "      <td>IndiHomeCare</td>\n",
       "      <td>@DilaPong Kak Dila. Uci cek updatenya dijadwal...</td>\n",
       "      <td>kak dila uci cek updatenya dijadwalkan kembali...</td>\n",
       "      <td>kak dila uci cek updatenya dijadwalkan kembali...</td>\n",
       "      <td>[kak, dila, uci, cek, updatenya, dijadwalkan, ...</td>\n",
       "      <td>[dila, uci, cek, updatenya, dijadwalkan, esok,...</td>\n",
       "      <td>dila uci cek updatenya dijadwalkan esok jam pe...</td>\n",
       "      <td>-8</td>\n",
       "      <td>negatif</td>\n",
       "    </tr>\n",
       "    <tr>\n",
       "      <th>3</th>\n",
       "      <td>9506</td>\n",
       "      <td>9506</td>\n",
       "      <td>2021-10-09 12:36:33+00:00</td>\n",
       "      <td>lalafindyou_</td>\n",
       "      <td>@IndiHome ni kapan ya wifinya bener. Aku mau n...</td>\n",
       "      <td>kapan wifinya bener aku mau nugas hikdddd pad...</td>\n",
       "      <td>kapan wifinya benar saya mau nugas hikdddd pa...</td>\n",
       "      <td>[, kapan, wifinya, benar, saya, mau, nugas, hi...</td>\n",
       "      <td>[, wifinya, nugas, hikdddd, bayar]</td>\n",
       "      <td>wifinya nugas hikdddd bayar</td>\n",
       "      <td>-3</td>\n",
       "      <td>negatif</td>\n",
       "    </tr>\n",
       "    <tr>\n",
       "      <th>4</th>\n",
       "      <td>3036</td>\n",
       "      <td>3036</td>\n",
       "      <td>2021-10-23 11:43:16+00:00</td>\n",
       "      <td>Razyajii</td>\n",
       "      <td>Oy Mola TV di Indihome nape tak bisa dibuka, a...</td>\n",
       "      <td>mola indihome nape tak bisa dibuka appsnya il...</td>\n",
       "      <td>mola indihome nape tidak bisa dibuka appsnya ...</td>\n",
       "      <td>[, mola, indihome, nape, tidak, bisa, dibuka, ...</td>\n",
       "      <td>[, mola, indihome, nape, dibuka, appsnya, ilang]</td>\n",
       "      <td>mola indihome nape dibuka appsnya ilang</td>\n",
       "      <td>-13</td>\n",
       "      <td>negatif</td>\n",
       "    </tr>\n",
       "  </tbody>\n",
       "</table>\n",
       "</div>"
      ],
      "text/plain": [
       "   Unnamed: 0  Unnamed: 0.1                    Tanggal       User ID  \\\n",
       "0       12473         12473  2021-10-27 07:31:26+00:00    arifsaadil   \n",
       "1        9030          9030  2021-10-11 10:42:41+00:00       tojizru   \n",
       "2        8294          8294  2021-10-30 05:33:15+00:00  IndiHomeCare   \n",
       "3        9506          9506  2021-10-09 12:36:33+00:00  lalafindyou_   \n",
       "4        3036          3036  2021-10-23 11:43:16+00:00      Razyajii   \n",
       "\n",
       "                                           Data Teks  \\\n",
       "0  @IndiHomeCare Sudah dilakukan sesuai DM, belum...   \n",
       "1                             @chifoeyuu P @IndiHome   \n",
       "2  @DilaPong Kak Dila. Uci cek updatenya dijadwal...   \n",
       "3  @IndiHome ni kapan ya wifinya bener. Aku mau n...   \n",
       "4  Oy Mola TV di Indihome nape tak bisa dibuka, a...   \n",
       "\n",
       "                               Data Teks_CaseFolding  \\\n",
       "0                  sudah dilakukan sesuai belum bisa   \n",
       "1                                                      \n",
       "2  kak dila uci cek updatenya dijadwalkan kembali...   \n",
       "3   kapan wifinya bener aku mau nugas hikdddd pad...   \n",
       "4   mola indihome nape tak bisa dibuka appsnya il...   \n",
       "\n",
       "                                Data Teks_clean_alay  \\\n",
       "0                  sudah dilakukan sesuai belum bisa   \n",
       "1                                                      \n",
       "2  kak dila uci cek updatenya dijadwalkan kembali...   \n",
       "3   kapan wifinya benar saya mau nugas hikdddd pa...   \n",
       "4   mola indihome nape tidak bisa dibuka appsnya ...   \n",
       "\n",
       "                                     Data Teks_Token  \\\n",
       "0            [sudah, dilakukan, sesuai, belum, bisa]   \n",
       "1                                                 []   \n",
       "2  [kak, dila, uci, cek, updatenya, dijadwalkan, ...   \n",
       "3  [, kapan, wifinya, benar, saya, mau, nugas, hi...   \n",
       "4  [, mola, indihome, nape, tidak, bisa, dibuka, ...   \n",
       "\n",
       "                                  Data Teks_Stopword  \\\n",
       "0                                           [sesuai]   \n",
       "1                                                 []   \n",
       "2  [dila, uci, cek, updatenya, dijadwalkan, esok,...   \n",
       "3                 [, wifinya, nugas, hikdddd, bayar]   \n",
       "4   [, mola, indihome, nape, dibuka, appsnya, ilang]   \n",
       "\n",
       "                                  Data Teks_Stemming  jumlah_polarity sentimen  \n",
       "0                                             sesuai                4  positif  \n",
       "1                                                                   0   netral  \n",
       "2  dila uci cek updatenya dijadwalkan esok jam pe...               -8  negatif  \n",
       "3                        wifinya nugas hikdddd bayar               -3  negatif  \n",
       "4            mola indihome nape dibuka appsnya ilang              -13  negatif  "
      ]
     },
     "execution_count": 137,
     "metadata": {},
     "output_type": "execute_result"
    }
   ],
   "source": [
    "data1.dropna()\n",
    "data1.drop_duplicates(subset='Data Teks_Stemming',\n",
    "                      keep= 'first',inplace=True)\n",
    "data1.to_csv(Data_lex, index=False, header=True)\n",
    "# data2 = pd.read_csv(Data_lex,usecols=['Data Teks_Stemming', 'jumlah_polarity', 'sentimen']).dropna()\n",
    "# data2.drop_duplicates(subset=['Data Teks_Stemming'], keep= False, inplace= True)\n",
    "data1.head(5)"
   ]
  },
  {
   "cell_type": "code",
   "execution_count": 138,
   "metadata": {},
   "outputs": [
    {
     "name": "stdout",
     "output_type": "stream",
     "text": [
      "Jumlah data lex: 6976\n"
     ]
    }
   ],
   "source": [
    "# jumlah data setelah leksikon\n",
    "index = data1.index\n",
    "jumlah = len(index)\n",
    "\n",
    "print('Jumlah data lex:',jumlah)"
   ]
  },
  {
   "cell_type": "markdown",
   "metadata": {},
   "source": [
    "# = Visualiasi =\n",
    "### Perbandingan Sentimen"
   ]
  },
  {
   "cell_type": "code",
   "execution_count": 139,
   "metadata": {},
   "outputs": [
    {
     "data": {
      "image/png": "[encoded data removed]",
      "text/plain": [
       "<Figure size 576x576 with 1 Axes>"
      ]
     },
     "metadata": {},
     "output_type": "display_data"
    }
   ],
   "source": [
    "# Plotting Pie\n",
    "def pct_pie(pct, allvals):\n",
    "    absolute = int(pct/100.*np.sum(allvals))\n",
    "    return \"{:.1f}%\\n{:d}\".format(pct, absolute)\n",
    "\n",
    "sentimen = data1['Data Teks_Stopword'].groupby(data1['sentimen']).count().values\n",
    "\n",
    "plt.figure(figsize = (8,8))\n",
    "plt.pie(sentimen, explode=(0,0,0.1), labels=['Negatif', 'Netral','Positif'], shadow=True,\n",
    "        autopct=lambda pct: pct_pie(pct, sentimen),startangle=90)\n",
    "plt.title('Perbandingan Sentiment',fontsize=18)\n",
    "plt.axis('equal')\n",
    "plt.legend(fontsize=11)\n",
    "plt.show()"
   ]
  },
  {
   "cell_type": "code",
   "execution_count": 140,
   "metadata": {},
   "outputs": [],
   "source": [
    "# Melihat banyak Tweet perhari berdasarkan sentiment\n",
    "data1['Tanggal'] = pd.to_datetime(data1['Tanggal'])\n",
    "tph = data1['Data Teks_Stopword'].groupby([data1['Tanggal'].dt.date, data1['sentimen']]).count()\n",
    "frek = tph.values\n",
    "\n",
    "# To Data Frame\n",
    "tanggal = [ i for i, j in tph.index.tolist() ]\n",
    "senti = [ j for i, j in tph.index.tolist() ]\n",
    "sent = pd.DataFrame({'Tanggal':tanggal,'sentiment':senti, 'Frekuensi':frek})"
   ]
  },
  {
   "cell_type": "code",
   "execution_count": 141,
   "metadata": {},
   "outputs": [
    {
     "data": {
      "image/png": "[encoded data removed]",
      "text/plain": [
       "<Figure size 720x720 with 1 Axes>"
      ]
     },
     "metadata": {
      "needs_background": "light"
     },
     "output_type": "display_data"
    }
   ],
   "source": [
    "# Plotting line\n",
    "plt.figure(figsize = (10,10))\n",
    "sns.lineplot(x='Tanggal',y='Frekuensi',hue='sentiment',data=sent)\n",
    "plt.title('Banyak Tweet per Hari',fontsize=20)\n",
    "plt.xticks(rotation=45)\n",
    "plt.xlabel('Tanggal',fontsize=16)\n",
    "plt.ylabel('Frekuensi',fontsize=16)\n",
    "plt.legend(['Negatif','Netral','Positif'])\n",
    "plt.show()"
   ]
  },
  {
   "cell_type": "markdown",
   "metadata": {},
   "source": [
    "# = TF-IDF =\n",
    "pembobotan kata"
   ]
  },
  {
   "cell_type": "code",
   "execution_count": null,
   "metadata": {},
   "outputs": [],
   "source": [
    "# # convert list formated string to list\n",
    "# import ast\n",
    "# import numpy as np\n",
    "# index = 1\n",
    "\n",
    "# def convert_text_list(texts):\n",
    "#     texts = ast.literal_eval(texts)\n",
    "#     return [text for text in texts]\n",
    "\n",
    "# data[\"Data Teks_list\"] = data[\"Data Teks_stemmed\"].apply(convert_text_list)\n",
    "\n",
    "\n",
    "# print(data[\"Data Teks_list\"][index])\n",
    "\n",
    "# print(\"\\ntype : \", type(data[\"Data Teks_list\"]))"
   ]
  },
  {
   "cell_type": "code",
   "execution_count": 142,
   "metadata": {},
   "outputs": [],
   "source": [
    "# def calc_TF(document):\n",
    "#     # Counts the number of times the word appears in review\n",
    "#     TF_dict = {}\n",
    "#     for term in document:\n",
    "#         if term in TF_dict:\n",
    "#             TF_dict[term] += 1\n",
    "#         else:\n",
    "#             TF_dict[term] = 1\n",
    "#     # Computes tf for each word\n",
    "#     for term in TF_dict:\n",
    "#         TF_dict[term] = TF_dict[term] / len(document)\n",
    "#     return TF_dict\n",
    "\n",
    "# data[\"TF_dict\"] = data['tweet_list'].apply(calc_TF)\n",
    "\n",
    "# data[\"TF_dict\"].head()"
   ]
  },
  {
   "cell_type": "code",
   "execution_count": null,
   "metadata": {},
   "outputs": [],
   "source": [
    "# print('%20s' % \"term\", \"\\t\", \"TF\\n\")\n",
    "# for key in data[\"TF_dict\"][index]:\n",
    "#     print('%20s' % key, \"\\t\", data[\"TF_dict\"][index][key])"
   ]
  },
  {
   "cell_type": "code",
   "execution_count": null,
   "metadata": {},
   "outputs": [],
   "source": [
    "# def calc_DF(tfDict):\n",
    "#     count_DF = {}\n",
    "#     # Run through each document's tf dictionary and increment countDict's (term, doc) pair\n",
    "#     for document in tfDict:\n",
    "#         for term in document:\n",
    "#             if term in count_DF:\n",
    "#                 count_DF[term] += 1\n",
    "#             else:\n",
    "#                 count_DF[term] = 1\n",
    "#     return count_DF\n",
    "\n",
    "# DF = calc_DF(data[\"TF_dict\"])"
   ]
  },
  {
   "cell_type": "code",
   "execution_count": null,
   "metadata": {},
   "outputs": [],
   "source": [
    "# n_document = len(data)\n",
    "\n",
    "# def calc_IDF(__n_document, __DF):\n",
    "#     IDF_Dict = {}\n",
    "#     for term in __DF:\n",
    "#         IDF_Dict[term] = np.log(__n_document / (__DF[term] + 1))\n",
    "#     return IDF_Dict\n",
    "  \n",
    "# #Stores the idf dictionary\n",
    "# IDF = calc_IDF(n_document, DF)"
   ]
  },
  {
   "cell_type": "code",
   "execution_count": null,
   "metadata": {},
   "outputs": [],
   "source": [
    "# #calc TF-IDF\n",
    "# def calc_TF_IDF(TF):\n",
    "#     TF_IDF_Dict = {}\n",
    "#     #For each word in the review, we multiply its tf and its idf.\n",
    "#     for key in TF:\n",
    "#         TF_IDF_Dict[key] = TF[key] * IDF[key]\n",
    "#     return TF_IDF_Dict\n",
    "\n",
    "# #Stores the TF-IDF Series\n",
    "# data[\"TF-IDF_dict\"] = data[\"TF_dict\"].apply(calc_TF_IDF)"
   ]
  },
  {
   "cell_type": "code",
   "execution_count": null,
   "metadata": {},
   "outputs": [],
   "source": [
    "# print('%20s' % \"term\", \"\\t\", '%10s' % \"TF\", \"\\t\", '%20s' % \"TF-IDF\\n\")\n",
    "# for key in data[\"TF-IDF_dict\"][index]:\n",
    "#     print('%20s' % key, \"\\t\", data[\"TF_dict\"][index][key] ,\"\\t\" , data[\"TF-IDF_dict\"][index][key])"
   ]
  },
  {
   "cell_type": "code",
   "execution_count": null,
   "metadata": {},
   "outputs": [],
   "source": [
    "# # sort descending by value for DF dictionary \n",
    "# sorted_DF = sorted(DF.items(), key=lambda kv: kv[1], reverse=True)[:50]\n",
    "\n",
    "# # Create a list of unique words from sorted dictionay `sorted_DF`\n",
    "# unique_term = [item[0] for item in sorted_DF]\n",
    "\n",
    "# def calc_TF_IDF_Vec(__TF_IDF_Dict):\n",
    "#     TF_IDF_vector = [0.0] * len(unique_term)\n",
    "\n",
    "#     # For each unique word, if it is in the review, store its TF-IDF value.\n",
    "#     for i, term in enumerate(unique_term):\n",
    "#         if term in __TF_IDF_Dict:\n",
    "#             TF_IDF_vector[i] = __TF_IDF_Dict[term]\n",
    "#     return TF_IDF_vector\n",
    "\n",
    "# data[\"TF_IDF_Vec\"] = data[\"TF-IDF_dict\"].apply(calc_TF_IDF_Vec)\n",
    "\n",
    "# print(\"print first row matrix TF_IDF_Vec Series\\n\")\n",
    "# print(data[\"TF_IDF_Vec\"][0])\n",
    "\n",
    "# print(\"\\nmatrix size : \", len(data[\"TF_IDF_Vec\"][0]))"
   ]
  },
  {
   "cell_type": "code",
   "execution_count": null,
   "metadata": {},
   "outputs": [],
   "source": [
    "# # Convert Series to List\n",
    "# TF_IDF_Vec_List = np.array(data[\"TF_IDF_Vec\"].to_list())\n",
    "\n",
    "# # Sum element vector in axis=0 \n",
    "# sums = TF_IDF_Vec_List.sum(axis=0)\n",
    "\n",
    "# data_tf_idf = []\n",
    "\n",
    "# for col, term in enumerate(unique_term):\n",
    "#     data_tf_idf.append((term, sums[col]))\n",
    "    \n",
    "# ranking = pd.DataFrame(data_tf_idf, columns=['term', 'rank'])\n",
    "# ranking.sort_values('rank', ascending=False)"
   ]
  },
  {
   "cell_type": "markdown",
   "metadata": {},
   "source": [
    "# Pemodelan"
   ]
  },
  {
   "cell_type": "markdown",
   "metadata": {},
   "source": [
    "## Loading Sample Data"
   ]
  },
  {
   "cell_type": "code",
   "execution_count": 143,
   "metadata": {},
   "outputs": [
    {
     "data": {
      "text/html": [
       "<div>\n",
       "<style scoped>\n",
       "    .dataframe tbody tr th:only-of-type {\n",
       "        vertical-align: middle;\n",
       "    }\n",
       "\n",
       "    .dataframe tbody tr th {\n",
       "        vertical-align: top;\n",
       "    }\n",
       "\n",
       "    .dataframe thead th {\n",
       "        text-align: right;\n",
       "    }\n",
       "</style>\n",
       "<table border=\"1\" class=\"dataframe\">\n",
       "  <thead>\n",
       "    <tr style=\"text-align: right;\">\n",
       "      <th></th>\n",
       "      <th>Unnamed: 0</th>\n",
       "      <th>Unnamed: 0.1</th>\n",
       "      <th>Tanggal</th>\n",
       "      <th>User ID</th>\n",
       "      <th>Data Teks</th>\n",
       "      <th>Data Teks_CaseFolding</th>\n",
       "      <th>Data Teks_clean_alay</th>\n",
       "      <th>Data Teks_Token</th>\n",
       "      <th>Data Teks_Stopword</th>\n",
       "      <th>Data Teks_Stemming</th>\n",
       "    </tr>\n",
       "  </thead>\n",
       "  <tbody>\n",
       "    <tr>\n",
       "      <th>0</th>\n",
       "      <td>12473</td>\n",
       "      <td>12473</td>\n",
       "      <td>2021-10-27 07:31:26+00:00</td>\n",
       "      <td>arifsaadil</td>\n",
       "      <td>@IndiHomeCare Sudah dilakukan sesuai DM, belum...</td>\n",
       "      <td>sudah dilakukan sesuai belum bisa</td>\n",
       "      <td>sudah dilakukan sesuai belum bisa</td>\n",
       "      <td>['sudah', 'dilakukan', 'sesuai', 'belum', 'bisa']</td>\n",
       "      <td>['sesuai']</td>\n",
       "      <td>sesuai</td>\n",
       "    </tr>\n",
       "    <tr>\n",
       "      <th>2</th>\n",
       "      <td>8294</td>\n",
       "      <td>8294</td>\n",
       "      <td>2021-10-30 05:33:15+00:00</td>\n",
       "      <td>IndiHomeCare</td>\n",
       "      <td>@DilaPong Kak Dila. Uci cek updatenya dijadwal...</td>\n",
       "      <td>kak dila uci cek updatenya dijadwalkan kembali...</td>\n",
       "      <td>kak dila uci cek updatenya dijadwalkan kembali...</td>\n",
       "      <td>['kak', 'dila', 'uci', 'cek', 'updatenya', 'di...</td>\n",
       "      <td>['dila', 'uci', 'cek', 'updatenya', 'dijadwalk...</td>\n",
       "      <td>dila uci cek updatenya dijadwalkan esok jam pe...</td>\n",
       "    </tr>\n",
       "    <tr>\n",
       "      <th>3</th>\n",
       "      <td>9506</td>\n",
       "      <td>9506</td>\n",
       "      <td>2021-10-09 12:36:33+00:00</td>\n",
       "      <td>lalafindyou_</td>\n",
       "      <td>@IndiHome ni kapan ya wifinya bener. Aku mau n...</td>\n",
       "      <td>kapan wifinya bener aku mau nugas hikdddd pad...</td>\n",
       "      <td>kapan wifinya benar saya mau nugas hikdddd pa...</td>\n",
       "      <td>['', 'kapan', 'wifinya', 'benar', 'saya', 'mau...</td>\n",
       "      <td>['', 'wifinya', 'nugas', 'hikdddd', 'bayar']</td>\n",
       "      <td>wifinya nugas hikdddd bayar</td>\n",
       "    </tr>\n",
       "    <tr>\n",
       "      <th>4</th>\n",
       "      <td>3036</td>\n",
       "      <td>3036</td>\n",
       "      <td>2021-10-23 11:43:16+00:00</td>\n",
       "      <td>Razyajii</td>\n",
       "      <td>Oy Mola TV di Indihome nape tak bisa dibuka, a...</td>\n",
       "      <td>mola indihome nape tak bisa dibuka appsnya il...</td>\n",
       "      <td>mola indihome nape tidak bisa dibuka appsnya ...</td>\n",
       "      <td>['', 'mola', 'indihome', 'nape', 'tidak', 'bis...</td>\n",
       "      <td>['', 'mola', 'indihome', 'nape', 'dibuka', 'ap...</td>\n",
       "      <td>mola indihome nape dibuka appsnya ilang</td>\n",
       "    </tr>\n",
       "    <tr>\n",
       "      <th>5</th>\n",
       "      <td>33927</td>\n",
       "      <td>33927</td>\n",
       "      <td>2021-10-18 01:20:39+00:00</td>\n",
       "      <td>IndiHomeCare</td>\n",
       "      <td>@ExcelJosaphine Halo, Kak Winarto. Pengaduan l...</td>\n",
       "      <td>halo kak winarto pengaduan layanan sudah anin ...</td>\n",
       "      <td>halo kak winarto pengaduan layanan sudah anin ...</td>\n",
       "      <td>['halo', 'kak', 'winarto', 'pengaduan', 'layan...</td>\n",
       "      <td>['halo', 'winarto', 'pengaduan', 'layanan', 'a...</td>\n",
       "      <td>halo winarto pengaduan layanan anin percepat n...</td>\n",
       "    </tr>\n",
       "  </tbody>\n",
       "</table>\n",
       "</div>"
      ],
      "text/plain": [
       "   Unnamed: 0  Unnamed: 0.1                    Tanggal       User ID  \\\n",
       "0       12473         12473  2021-10-27 07:31:26+00:00    arifsaadil   \n",
       "2        8294          8294  2021-10-30 05:33:15+00:00  IndiHomeCare   \n",
       "3        9506          9506  2021-10-09 12:36:33+00:00  lalafindyou_   \n",
       "4        3036          3036  2021-10-23 11:43:16+00:00      Razyajii   \n",
       "5       33927         33927  2021-10-18 01:20:39+00:00  IndiHomeCare   \n",
       "\n",
       "                                           Data Teks  \\\n",
       "0  @IndiHomeCare Sudah dilakukan sesuai DM, belum...   \n",
       "2  @DilaPong Kak Dila. Uci cek updatenya dijadwal...   \n",
       "3  @IndiHome ni kapan ya wifinya bener. Aku mau n...   \n",
       "4  Oy Mola TV di Indihome nape tak bisa dibuka, a...   \n",
       "5  @ExcelJosaphine Halo, Kak Winarto. Pengaduan l...   \n",
       "\n",
       "                               Data Teks_CaseFolding  \\\n",
       "0                  sudah dilakukan sesuai belum bisa   \n",
       "2  kak dila uci cek updatenya dijadwalkan kembali...   \n",
       "3   kapan wifinya bener aku mau nugas hikdddd pad...   \n",
       "4   mola indihome nape tak bisa dibuka appsnya il...   \n",
       "5  halo kak winarto pengaduan layanan sudah anin ...   \n",
       "\n",
       "                                Data Teks_clean_alay  \\\n",
       "0                  sudah dilakukan sesuai belum bisa   \n",
       "2  kak dila uci cek updatenya dijadwalkan kembali...   \n",
       "3   kapan wifinya benar saya mau nugas hikdddd pa...   \n",
       "4   mola indihome nape tidak bisa dibuka appsnya ...   \n",
       "5  halo kak winarto pengaduan layanan sudah anin ...   \n",
       "\n",
       "                                     Data Teks_Token  \\\n",
       "0  ['sudah', 'dilakukan', 'sesuai', 'belum', 'bisa']   \n",
       "2  ['kak', 'dila', 'uci', 'cek', 'updatenya', 'di...   \n",
       "3  ['', 'kapan', 'wifinya', 'benar', 'saya', 'mau...   \n",
       "4  ['', 'mola', 'indihome', 'nape', 'tidak', 'bis...   \n",
       "5  ['halo', 'kak', 'winarto', 'pengaduan', 'layan...   \n",
       "\n",
       "                                  Data Teks_Stopword  \\\n",
       "0                                         ['sesuai']   \n",
       "2  ['dila', 'uci', 'cek', 'updatenya', 'dijadwalk...   \n",
       "3       ['', 'wifinya', 'nugas', 'hikdddd', 'bayar']   \n",
       "4  ['', 'mola', 'indihome', 'nape', 'dibuka', 'ap...   \n",
       "5  ['halo', 'winarto', 'pengaduan', 'layanan', 'a...   \n",
       "\n",
       "                                  Data Teks_Stemming  \n",
       "0                                             sesuai  \n",
       "2  dila uci cek updatenya dijadwalkan esok jam pe...  \n",
       "3                        wifinya nugas hikdddd bayar  \n",
       "4            mola indihome nape dibuka appsnya ilang  \n",
       "5  halo winarto pengaduan layanan anin percepat n...  "
      ]
     },
     "execution_count": 143,
     "metadata": {},
     "output_type": "execute_result"
    }
   ],
   "source": [
    "# # Loading Sample tweet sentiment\n",
    "# sample = pd.read_csv(Data_prepro).dropna()\n",
    "# sample.head()"
   ]
  },
  {
   "cell_type": "markdown",
   "metadata": {},
   "source": [
    "## = Preprocess Sampling dataset ="
   ]
  },
  {
   "cell_type": "code",
   "execution_count": 144,
   "metadata": {},
   "outputs": [],
   "source": [
    "\n",
    "# sample['Data Teks_CaseFolding'] = sample['Data Teks_CaseFolding'].apply(lambda x: clean_text(x))\n",
    "# sample['Data Teks_Token'] = sample['Data Teks_Token'].apply(lambda x : clean_text(x))\n",
    "# sample['Data Teks_Token'] = sample['Data Teks_Token'].apply(lambda x : clean_text(x))\n",
    "# sample['Data Teks_Token'] = sample['Data Teks_Token'].apply(lambda x : token(x))\n",
    "# sample['Data Teks_Token'].values[:5]"
   ]
  },
  {
   "cell_type": "code",
   "execution_count": 145,
   "metadata": {},
   "outputs": [
    {
     "ename": "NameError",
     "evalue": "name 'vectorizer_tfidf' is not defined",
     "output_type": "error",
     "traceback": [
      "\u001b[1;31m---------------------------------------------------------------------------\u001b[0m",
      "\u001b[1;31mNameError\u001b[0m                                 Traceback (most recent call last)",
      "\u001b[1;32m~\\AppData\\Local\\Temp/ipykernel_9936/1122353116.py\u001b[0m in \u001b[0;36m<module>\u001b[1;34m\u001b[0m\n\u001b[1;32m----> 1\u001b[1;33m \u001b[0mx\u001b[0m \u001b[1;33m=\u001b[0m \u001b[0mvectorizer_tfidf\u001b[0m\u001b[1;33m.\u001b[0m\u001b[0mtransform\u001b[0m\u001b[1;33m(\u001b[0m\u001b[0msample\u001b[0m\u001b[1;33m[\u001b[0m\u001b[1;34m'Data Teks_Stopword'\u001b[0m\u001b[1;33m]\u001b[0m\u001b[1;33m.\u001b[0m\u001b[0mvalues\u001b[0m\u001b[1;33m)\u001b[0m\u001b[1;33m\u001b[0m\u001b[1;33m\u001b[0m\u001b[0m\n\u001b[0m\u001b[0;32m      2\u001b[0m \u001b[0my\u001b[0m \u001b[1;33m=\u001b[0m \u001b[0msample\u001b[0m\u001b[1;33m[\u001b[0m\u001b[1;34m'sentiment'\u001b[0m\u001b[1;33m]\u001b[0m\u001b[1;33m.\u001b[0m\u001b[0mvalues\u001b[0m\u001b[1;33m\u001b[0m\u001b[1;33m\u001b[0m\u001b[0m\n",
      "\u001b[1;31mNameError\u001b[0m: name 'vectorizer_tfidf' is not defined"
     ]
    }
   ],
   "source": [
    "\n",
    "# x = vectorizer_tfidf.transform(sample['Data Teks_Stopword'].values)\n",
    "# y = sample['sentiment'].values"
   ]
  },
  {
   "cell_type": "code",
   "execution_count": null,
   "metadata": {},
   "outputs": [],
   "source": [
    "# from sklearn.model_selection import train_test_split\n",
    "\n",
    "# x_train, x_valid, y_train, y_valid = train_test_split(x, y, test_size=0.2, random_state=2020)"
   ]
  },
  {
   "cell_type": "markdown",
   "metadata": {},
   "source": [
    "# = Fitting Model NBC ="
   ]
  },
  {
   "cell_type": "code",
   "execution_count": null,
   "metadata": {},
   "outputs": [],
   "source": [
    "# # Modelling\n",
    "# from sklearn.linear_model import LogisticRegression\n",
    "# from sklearn.ensemble import RandomForestClassifier\n",
    "# from sklearn.tree import DecisionTreeClassifier\n",
    "# from sklearn.svm import SVC\n",
    "# from sklearn import metrics\n",
    "\n"
   ]
  },
  {
   "cell_type": "code",
   "execution_count": null,
   "metadata": {},
   "outputs": [],
   "source": []
  },
  {
   "cell_type": "markdown",
   "metadata": {},
   "source": [
    "## = Fitting Model SVM ="
   ]
  },
  {
   "cell_type": "code",
   "execution_count": null,
   "metadata": {},
   "outputs": [],
   "source": [
    "# # Modelling\n",
    "# from sklearn.linear_model import LogisticRegression\n",
    "# from sklearn.ensemble import RandomForestClassifier\n",
    "# from sklearn.tree import DecisionTreeClassifier\n",
    "# from sklearn.svm import SVC\n",
    "# from sklearn import metrics\n",
    "\n",
    "# classifiers = {\n",
    "#     \"Decision Tree Classifier\": DecisionTreeClassifier(),\n",
    "#     \"Logistic Regression\": LogisticRegression(),\n",
    "#     \"Random Forest Classifier\": RandomForestClassifier(),\n",
    "#     \"SVM\": SVC(probability=True)\n",
    "# }\n",
    "\n",
    "# for name in classifiers.keys():\n",
    "#     classifiers[name].fit(x_train, y_train)\n",
    "#     y_pred = classifiers[name].predict(x_valid)\n",
    "#     print(f\"Akurasi dari {name} : \",metrics.accuracy_score(y_valid, y_pred))"
   ]
  },
  {
   "cell_type": "markdown",
   "metadata": {},
   "source": [
    "# = Prediction (Peramalan) ="
   ]
  },
  {
   "cell_type": "code",
   "execution_count": null,
   "metadata": {},
   "outputs": [],
   "source": [
    "# data1['prediction'] = classifiers['SVM'].predict(word_tfidf)\n",
    "# data1.head()"
   ]
  },
  {
   "cell_type": "markdown",
   "metadata": {},
   "source": [
    "# = Penutup ="
   ]
  },
  {
   "cell_type": "code",
   "execution_count": null,
   "metadata": {},
   "outputs": [],
   "source": [
    "# ####################\n",
    "# ## Saving Objects ##\n",
    "# ####################\n",
    "\n",
    "# if not os.path.isdir('output'):\n",
    "#     os.mkdir('output')\n",
    "\n",
    "# # Export data baru\n",
    "# data.to_csv('E:\\Program\\M\\Code\\Program\\Stemmer_2\\FInal\\Data\\Out_pre_process\\out_vec_ic.csv', index=False)\n",
    "\n",
    "# # Saving Model\n",
    "# for name, model in classifiers.items():\n",
    "#     pickle.dump(model, open(f\"../model/[TRAINED] {name}_{datetime.today().strftime('%Y-%m-%d')}.pickle\", \"wb\"))\n",
    "\n",
    "# # Saving Vectorizer\n",
    "# # pickle.dump(vectorizer_tfidf, open(\"../model/vectorizer/vectorizer_tfidf.pickle\", \"wb\"))\n",
    "# # pickle.dump(word_tfidf, open(\"../model/vectorizer/word_tfidf.pickle\", \"wb\"))"
   ]
  }
 ],
 "metadata": {
  "interpreter": {
   "hash": "8da01e5a71448ea74f54d88afa8911010d1d12e23bc7e103d40d5def4a09152c"
  },
  "kernelspec": {
   "display_name": "Python 3.9.7 64-bit",
   "name": "python3"
  },
  "language_info": {
   "codemirror_mode": {
    "name": "ipython",
    "version": 3
   },
   "file_extension": ".py",
   "mimetype": "text/x-python",
   "name": "python",
   "nbconvert_exporter": "python",
   "pygments_lexer": "ipython3",
   "version": "3.9.7"
  },
  "orig_nbformat": 4
 },
 "nbformat": 4,
 "nbformat_minor": 2
}
